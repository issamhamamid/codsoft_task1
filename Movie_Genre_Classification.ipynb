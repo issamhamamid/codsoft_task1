{
 "cells": [
  {
   "cell_type": "code",
   "execution_count": 2,
   "id": "initial_id",
   "metadata": {
    "ExecuteTime": {
     "end_time": "2023-11-23T18:21:17.645334300Z",
     "start_time": "2023-11-23T18:21:17.017211800Z"
    }
   },
   "outputs": [],
   "source": [
    "import pandas as pd"
   ]
  },
  {
   "cell_type": "code",
   "execution_count": 3,
   "id": "6d3cbe68491fb12e",
   "metadata": {
    "ExecuteTime": {
     "end_time": "2023-11-23T15:49:45.650503700Z",
     "start_time": "2023-11-23T15:49:44.502758400Z"
    }
   },
   "outputs": [],
   "source": [
    "df = pd.read_csv(\"train_data.txt\", sep=':::', names=['Title', 'Genre', 'Description'], engine='python')"
   ]
  },
  {
   "cell_type": "code",
   "execution_count": 4,
   "id": "c173f47b2a25de1f",
   "metadata": {
    "ExecuteTime": {
     "end_time": "2023-11-23T15:49:45.652498300Z",
     "start_time": "2023-11-23T15:49:45.646514100Z"
    }
   },
   "outputs": [
    {
     "data": {
      "text/plain": [
       "(54214, 3)"
      ]
     },
     "execution_count": 4,
     "metadata": {},
     "output_type": "execute_result"
    }
   ],
   "source": [
    "df.shape"
   ]
  },
  {
   "cell_type": "code",
   "execution_count": 5,
   "id": "8813dc763d65f992",
   "metadata": {
    "ExecuteTime": {
     "end_time": "2023-11-23T15:49:46.883837200Z",
     "start_time": "2023-11-23T15:49:46.852208800Z"
    }
   },
   "outputs": [
    {
     "data": {
      "text/html": [
       "<div>\n",
       "<style scoped>\n",
       "    .dataframe tbody tr th:only-of-type {\n",
       "        vertical-align: middle;\n",
       "    }\n",
       "\n",
       "    .dataframe tbody tr th {\n",
       "        vertical-align: top;\n",
       "    }\n",
       "\n",
       "    .dataframe thead th {\n",
       "        text-align: right;\n",
       "    }\n",
       "</style>\n",
       "<table border=\"1\" class=\"dataframe\">\n",
       "  <thead>\n",
       "    <tr style=\"text-align: right;\">\n",
       "      <th></th>\n",
       "      <th>Title</th>\n",
       "      <th>Genre</th>\n",
       "      <th>Description</th>\n",
       "    </tr>\n",
       "  </thead>\n",
       "  <tbody>\n",
       "    <tr>\n",
       "      <th>1</th>\n",
       "      <td>Oscar et la dame rose (2009)</td>\n",
       "      <td>drama</td>\n",
       "      <td>Listening in to a conversation between his do...</td>\n",
       "    </tr>\n",
       "    <tr>\n",
       "      <th>2</th>\n",
       "      <td>Cupid (1997)</td>\n",
       "      <td>thriller</td>\n",
       "      <td>A brother and sister with a past incestuous r...</td>\n",
       "    </tr>\n",
       "    <tr>\n",
       "      <th>3</th>\n",
       "      <td>Young, Wild and Wonderful (1980)</td>\n",
       "      <td>adult</td>\n",
       "      <td>As the bus empties the students for their fie...</td>\n",
       "    </tr>\n",
       "    <tr>\n",
       "      <th>4</th>\n",
       "      <td>The Secret Sin (1915)</td>\n",
       "      <td>drama</td>\n",
       "      <td>To help their unemployed father make ends mee...</td>\n",
       "    </tr>\n",
       "    <tr>\n",
       "      <th>5</th>\n",
       "      <td>The Unrecovered (2007)</td>\n",
       "      <td>drama</td>\n",
       "      <td>The film's title refers not only to the un-re...</td>\n",
       "    </tr>\n",
       "  </tbody>\n",
       "</table>\n",
       "</div>"
      ],
      "text/plain": [
       "                                Title       Genre  \\\n",
       "1       Oscar et la dame rose (2009)       drama    \n",
       "2                       Cupid (1997)    thriller    \n",
       "3   Young, Wild and Wonderful (1980)       adult    \n",
       "4              The Secret Sin (1915)       drama    \n",
       "5             The Unrecovered (2007)       drama    \n",
       "\n",
       "                                         Description  \n",
       "1   Listening in to a conversation between his do...  \n",
       "2   A brother and sister with a past incestuous r...  \n",
       "3   As the bus empties the students for their fie...  \n",
       "4   To help their unemployed father make ends mee...  \n",
       "5   The film's title refers not only to the un-re...  "
      ]
     },
     "execution_count": 5,
     "metadata": {},
     "output_type": "execute_result"
    }
   ],
   "source": [
    "df.head()"
   ]
  },
  {
   "cell_type": "code",
   "execution_count": 6,
   "id": "e137be27097258c5",
   "metadata": {
    "ExecuteTime": {
     "end_time": "2023-11-23T15:49:47.717831900Z",
     "start_time": "2023-11-23T15:49:47.546874800Z"
    }
   },
   "outputs": [],
   "source": [
    "df.drop_duplicates(inplace=True)"
   ]
  },
  {
   "cell_type": "code",
   "execution_count": 7,
   "id": "5b37a3ff7b786180",
   "metadata": {
    "ExecuteTime": {
     "end_time": "2023-11-23T15:49:48.282348200Z",
     "start_time": "2023-11-23T15:49:48.258412Z"
    }
   },
   "outputs": [
    {
     "data": {
      "text/plain": [
       "(54214, 3)"
      ]
     },
     "execution_count": 7,
     "metadata": {},
     "output_type": "execute_result"
    }
   ],
   "source": [
    "df.shape"
   ]
  },
  {
   "cell_type": "code",
   "execution_count": 8,
   "id": "3adc9c0e4d7425ab",
   "metadata": {
    "ExecuteTime": {
     "end_time": "2023-11-23T15:49:48.971963600Z",
     "start_time": "2023-11-23T15:49:48.901088Z"
    }
   },
   "outputs": [
    {
     "data": {
      "text/plain": [
       "Title          0\n",
       "Genre          0\n",
       "Description    0\n",
       "dtype: int64"
      ]
     },
     "execution_count": 8,
     "metadata": {},
     "output_type": "execute_result"
    }
   ],
   "source": [
    "df.isnull().sum()"
   ]
  },
  {
   "cell_type": "code",
   "execution_count": 9,
   "id": "b910faf8acc366a",
   "metadata": {
    "ExecuteTime": {
     "end_time": "2023-11-23T15:49:49.722611Z",
     "start_time": "2023-11-23T15:49:49.696682500Z"
    }
   },
   "outputs": [],
   "source": [
    "df.drop('Title' , axis=1 , inplace=True)"
   ]
  },
  {
   "cell_type": "markdown",
   "id": "635d7e3a981a8103",
   "metadata": {},
   "source": [
    "<h1>Data Visualisation<h1>"
   ]
  },
  {
   "cell_type": "code",
   "execution_count": 10,
   "id": "be46759f0ec4d0ae",
   "metadata": {
    "ExecuteTime": {
     "end_time": "2023-11-23T15:49:51.388759500Z",
     "start_time": "2023-11-23T15:49:50.269549900Z"
    }
   },
   "outputs": [],
   "source": [
    "import matplotlib.pyplot as plt"
   ]
  },
  {
   "cell_type": "code",
   "execution_count": 11,
   "id": "6289dd2d69d8bdf4",
   "metadata": {
    "ExecuteTime": {
     "end_time": "2023-11-23T15:49:52.981663300Z",
     "start_time": "2023-11-23T15:49:51.937814400Z"
    }
   },
   "outputs": [
    {
     "data": {
      "text/plain": [
       "<Axes: title={'center': 'Genre Count '}, xlabel='Genre', ylabel='Count'>"
      ]
     },
     "execution_count": 11,
     "metadata": {},
     "output_type": "execute_result"
    },
    {
     "data": {
      "image/png": "[encoded data removed]",
      "text/plain": [
       "<Figure size 640x480 with 1 Axes>"
      ]
     },
     "metadata": {},
     "output_type": "display_data"
    }
   ],
   "source": [
    "genre_cnt = df[\"Genre\"].value_counts()\n",
    "plt.xlabel(\"Genre\")\n",
    "plt.ylabel(\"Count\")\n",
    "plt.title(\"Genre Count \")\n",
    "genre_cnt.plot(kind='bar',color='green')"
   ]
  },
  {
   "cell_type": "code",
   "execution_count": 12,
   "id": "3121a61f2778beab",
   "metadata": {
    "ExecuteTime": {
     "end_time": "2023-11-23T15:49:53.071466800Z",
     "start_time": "2023-11-23T15:49:52.984653800Z"
    }
   },
   "outputs": [
    {
     "data": {
      "text/html": [
       "<div>\n",
       "<style scoped>\n",
       "    .dataframe tbody tr th:only-of-type {\n",
       "        vertical-align: middle;\n",
       "    }\n",
       "\n",
       "    .dataframe tbody tr th {\n",
       "        vertical-align: top;\n",
       "    }\n",
       "\n",
       "    .dataframe thead th {\n",
       "        text-align: right;\n",
       "    }\n",
       "</style>\n",
       "<table border=\"1\" class=\"dataframe\">\n",
       "  <thead>\n",
       "    <tr style=\"text-align: right;\">\n",
       "      <th></th>\n",
       "      <th>Genre</th>\n",
       "      <th>Description</th>\n",
       "      <th>Genre_merged</th>\n",
       "    </tr>\n",
       "  </thead>\n",
       "  <tbody>\n",
       "    <tr>\n",
       "      <th>1</th>\n",
       "      <td>drama</td>\n",
       "      <td>Listening in to a conversation between his do...</td>\n",
       "      <td>drama</td>\n",
       "    </tr>\n",
       "    <tr>\n",
       "      <th>2</th>\n",
       "      <td>thriller</td>\n",
       "      <td>A brother and sister with a past incestuous r...</td>\n",
       "      <td>thriller</td>\n",
       "    </tr>\n",
       "    <tr>\n",
       "      <th>3</th>\n",
       "      <td>adult</td>\n",
       "      <td>As the bus empties the students for their fie...</td>\n",
       "      <td>Others</td>\n",
       "    </tr>\n",
       "    <tr>\n",
       "      <th>4</th>\n",
       "      <td>drama</td>\n",
       "      <td>To help their unemployed father make ends mee...</td>\n",
       "      <td>drama</td>\n",
       "    </tr>\n",
       "    <tr>\n",
       "      <th>5</th>\n",
       "      <td>drama</td>\n",
       "      <td>The film's title refers not only to the un-re...</td>\n",
       "      <td>drama</td>\n",
       "    </tr>\n",
       "  </tbody>\n",
       "</table>\n",
       "</div>"
      ],
      "text/plain": [
       "        Genre                                        Description Genre_merged\n",
       "1      drama    Listening in to a conversation between his do...       drama \n",
       "2   thriller    A brother and sister with a past incestuous r...    thriller \n",
       "3      adult    As the bus empties the students for their fie...       Others\n",
       "4      drama    To help their unemployed father make ends mee...       drama \n",
       "5      drama    The film's title refers not only to the un-re...       drama "
      ]
     },
     "execution_count": 12,
     "metadata": {},
     "output_type": "execute_result"
    }
   ],
   "source": [
    "#merging low count data to \"Others\"\n",
    "top_genres = df['Genre'].value_counts().nlargest(10).index\n",
    "\n",
    "df1 = df.copy()\n",
    "df1['Genre_merged'] = df['Genre'].where(df['Genre'].isin(top_genres), 'Others')\n",
    "df1.head()"
   ]
  },
  {
   "cell_type": "code",
   "execution_count": 13,
   "id": "f759069605c5650a",
   "metadata": {
    "ExecuteTime": {
     "end_time": "2023-11-23T15:49:54.679096100Z",
     "start_time": "2023-11-23T15:49:54.014865100Z"
    }
   },
   "outputs": [
    {
     "data": {
      "text/plain": [
       "<Axes: title={'center': 'Genre Count '}, xlabel='Genre', ylabel='Count'>"
      ]
     },
     "execution_count": 13,
     "metadata": {},
     "output_type": "execute_result"
    },
    {
     "data": {
      "image/png": "[encoded data removed]",
      "text/plain": [
       "<Figure size 640x480 with 1 Axes>"
      ]
     },
     "metadata": {},
     "output_type": "display_data"
    }
   ],
   "source": [
    "genre_cnt = df1[\"Genre_merged\"].value_counts()\n",
    "plt.xlabel(\"Genre\")\n",
    "plt.ylabel(\"Count\")\n",
    "plt.title(\"Genre Count \")\n",
    "genre_cnt.plot(kind='bar',color='green')"
   ]
  },
  {
   "cell_type": "code",
   "execution_count": 14,
   "id": "ca81b2d735e3b788",
   "metadata": {
    "ExecuteTime": {
     "end_time": "2023-11-23T15:49:57.344097900Z",
     "start_time": "2023-11-23T15:49:55.186299300Z"
    }
   },
   "outputs": [
    {
     "data": {
      "text/html": [
       "<div>\n",
       "<style scoped>\n",
       "    .dataframe tbody tr th:only-of-type {\n",
       "        vertical-align: middle;\n",
       "    }\n",
       "\n",
       "    .dataframe tbody tr th {\n",
       "        vertical-align: top;\n",
       "    }\n",
       "\n",
       "    .dataframe thead th {\n",
       "        text-align: right;\n",
       "    }\n",
       "</style>\n",
       "<table border=\"1\" class=\"dataframe\">\n",
       "  <thead>\n",
       "    <tr style=\"text-align: right;\">\n",
       "      <th></th>\n",
       "      <th>Genre</th>\n",
       "      <th>Description</th>\n",
       "      <th>Genre_merged</th>\n",
       "      <th>Genre_encoded</th>\n",
       "    </tr>\n",
       "  </thead>\n",
       "  <tbody>\n",
       "    <tr>\n",
       "      <th>1</th>\n",
       "      <td>drama</td>\n",
       "      <td>Listening in to a conversation between his do...</td>\n",
       "      <td>drama</td>\n",
       "      <td>3</td>\n",
       "    </tr>\n",
       "    <tr>\n",
       "      <th>2</th>\n",
       "      <td>thriller</td>\n",
       "      <td>A brother and sister with a past incestuous r...</td>\n",
       "      <td>thriller</td>\n",
       "      <td>8</td>\n",
       "    </tr>\n",
       "    <tr>\n",
       "      <th>3</th>\n",
       "      <td>adult</td>\n",
       "      <td>As the bus empties the students for their fie...</td>\n",
       "      <td>Others</td>\n",
       "      <td>10</td>\n",
       "    </tr>\n",
       "    <tr>\n",
       "      <th>4</th>\n",
       "      <td>drama</td>\n",
       "      <td>To help their unemployed father make ends mee...</td>\n",
       "      <td>drama</td>\n",
       "      <td>3</td>\n",
       "    </tr>\n",
       "    <tr>\n",
       "      <th>5</th>\n",
       "      <td>drama</td>\n",
       "      <td>The film's title refers not only to the un-re...</td>\n",
       "      <td>drama</td>\n",
       "      <td>3</td>\n",
       "    </tr>\n",
       "  </tbody>\n",
       "</table>\n",
       "</div>"
      ],
      "text/plain": [
       "        Genre                                        Description Genre_merged  \\\n",
       "1      drama    Listening in to a conversation between his do...       drama    \n",
       "2   thriller    A brother and sister with a past incestuous r...    thriller    \n",
       "3      adult    As the bus empties the students for their fie...       Others   \n",
       "4      drama    To help their unemployed father make ends mee...       drama    \n",
       "5      drama    The film's title refers not only to the un-re...       drama    \n",
       "\n",
       "   Genre_encoded  \n",
       "1              3  \n",
       "2              8  \n",
       "3             10  \n",
       "4              3  \n",
       "5              3  "
      ]
     },
     "execution_count": 14,
     "metadata": {},
     "output_type": "execute_result"
    }
   ],
   "source": [
    "#Encoding genre data\n",
    "from sklearn.preprocessing import LabelEncoder\n",
    "encoder = LabelEncoder()\n",
    "df1['Genre_encoded'] = encoder.fit_transform(df1['Genre_merged'])\n",
    "df1.head()"
   ]
  },
  {
   "cell_type": "code",
   "execution_count": 15,
   "id": "ffde2e4b33783611",
   "metadata": {
    "ExecuteTime": {
     "end_time": "2023-11-23T15:49:57.988582Z",
     "start_time": "2023-11-23T15:49:57.978100400Z"
    }
   },
   "outputs": [],
   "source": [
    "#description data cleaning\n",
    "import re\n",
    "\n",
    "punctuation_pattern = r'[.!?;:\"\\-\\(\\)\\[\\]{}]'\n",
    "\n",
    "def text_cleaning(text_data):\n",
    "    text_data = text_data.lower()\n",
    "    text_data = re.sub(r'\\d+', '', text_data)\n",
    "    text_data = re.sub(punctuation_pattern, ' ', text_data)\n",
    "    return text_data"
   ]
  },
  {
   "cell_type": "code",
   "execution_count": 16,
   "id": "273c5c0042923722",
   "metadata": {
    "ExecuteTime": {
     "end_time": "2023-11-23T15:50:00.112983100Z",
     "start_time": "2023-11-23T15:49:58.780076500Z"
    }
   },
   "outputs": [
    {
     "data": {
      "text/html": [
       "<div>\n",
       "<style scoped>\n",
       "    .dataframe tbody tr th:only-of-type {\n",
       "        vertical-align: middle;\n",
       "    }\n",
       "\n",
       "    .dataframe tbody tr th {\n",
       "        vertical-align: top;\n",
       "    }\n",
       "\n",
       "    .dataframe thead th {\n",
       "        text-align: right;\n",
       "    }\n",
       "</style>\n",
       "<table border=\"1\" class=\"dataframe\">\n",
       "  <thead>\n",
       "    <tr style=\"text-align: right;\">\n",
       "      <th></th>\n",
       "      <th>Genre</th>\n",
       "      <th>Description</th>\n",
       "      <th>Genre_merged</th>\n",
       "      <th>Genre_encoded</th>\n",
       "      <th>Clean_Description</th>\n",
       "    </tr>\n",
       "  </thead>\n",
       "  <tbody>\n",
       "    <tr>\n",
       "      <th>1</th>\n",
       "      <td>drama</td>\n",
       "      <td>Listening in to a conversation between his do...</td>\n",
       "      <td>drama</td>\n",
       "      <td>3</td>\n",
       "      <td>listening in to a conversation between his do...</td>\n",
       "    </tr>\n",
       "    <tr>\n",
       "      <th>2</th>\n",
       "      <td>thriller</td>\n",
       "      <td>A brother and sister with a past incestuous r...</td>\n",
       "      <td>thriller</td>\n",
       "      <td>8</td>\n",
       "      <td>a brother and sister with a past incestuous r...</td>\n",
       "    </tr>\n",
       "    <tr>\n",
       "      <th>3</th>\n",
       "      <td>adult</td>\n",
       "      <td>As the bus empties the students for their fie...</td>\n",
       "      <td>Others</td>\n",
       "      <td>10</td>\n",
       "      <td>as the bus empties the students for their fie...</td>\n",
       "    </tr>\n",
       "    <tr>\n",
       "      <th>4</th>\n",
       "      <td>drama</td>\n",
       "      <td>To help their unemployed father make ends mee...</td>\n",
       "      <td>drama</td>\n",
       "      <td>3</td>\n",
       "      <td>to help their unemployed father make ends mee...</td>\n",
       "    </tr>\n",
       "    <tr>\n",
       "      <th>5</th>\n",
       "      <td>drama</td>\n",
       "      <td>The film's title refers not only to the un-re...</td>\n",
       "      <td>drama</td>\n",
       "      <td>3</td>\n",
       "      <td>the film's title refers not only to the un re...</td>\n",
       "    </tr>\n",
       "  </tbody>\n",
       "</table>\n",
       "</div>"
      ],
      "text/plain": [
       "        Genre                                        Description Genre_merged  \\\n",
       "1      drama    Listening in to a conversation between his do...       drama    \n",
       "2   thriller    A brother and sister with a past incestuous r...    thriller    \n",
       "3      adult    As the bus empties the students for their fie...       Others   \n",
       "4      drama    To help their unemployed father make ends mee...       drama    \n",
       "5      drama    The film's title refers not only to the un-re...       drama    \n",
       "\n",
       "   Genre_encoded                                  Clean_Description  \n",
       "1              3   listening in to a conversation between his do...  \n",
       "2              8   a brother and sister with a past incestuous r...  \n",
       "3             10   as the bus empties the students for their fie...  \n",
       "4              3   to help their unemployed father make ends mee...  \n",
       "5              3   the film's title refers not only to the un re...  "
      ]
     },
     "execution_count": 16,
     "metadata": {},
     "output_type": "execute_result"
    }
   ],
   "source": [
    "df2 = df1.copy()\n",
    "df2['Clean_Description']=df1['Description'].apply(lambda x:text_cleaning(x))\n",
    "df2.head()"
   ]
  },
  {
   "cell_type": "code",
   "execution_count": 17,
   "id": "bff1620954333420",
   "metadata": {
    "ExecuteTime": {
     "end_time": "2023-11-23T15:50:00.967109200Z",
     "start_time": "2023-11-23T15:50:00.942174900Z"
    }
   },
   "outputs": [],
   "source": [
    "\n",
    "X = df2['Clean_Description']\n",
    "Y = df2['Genre_encoded']"
   ]
  },
  {
   "cell_type": "code",
   "execution_count": 18,
   "id": "a9a58742d8bc52d4",
   "metadata": {
    "ExecuteTime": {
     "end_time": "2023-11-23T15:50:07.187288500Z",
     "start_time": "2023-11-23T15:50:01.648393700Z"
    }
   },
   "outputs": [],
   "source": [
    "#encoding description data using tf_idf\n",
    "from sklearn.feature_extraction.text import TfidfVectorizer\n",
    "\n",
    "vector = TfidfVectorizer()\n",
    "tfidf_matrix = vector.fit_transform(X)"
   ]
  },
  {
   "cell_type": "markdown",
   "id": "510614e985048d3d",
   "metadata": {},
   "source": [
    "<h1>Model building<h1>"
   ]
  },
  {
   "cell_type": "code",
   "execution_count": 19,
   "id": "9e56f262c16c7d09",
   "metadata": {
    "ExecuteTime": {
     "end_time": "2023-11-23T15:50:08.799551600Z",
     "start_time": "2023-11-23T15:50:08.616287Z"
    }
   },
   "outputs": [],
   "source": [
    "from sklearn.model_selection import train_test_split\n",
    "X_train ,X_test ,Y_train ,Y_test = train_test_split(tfidf_matrix,Y ,test_size = 0.35 , random_state=10)"
   ]
  },
  {
   "cell_type": "markdown",
   "id": "990fa96f6793bc8d",
   "metadata": {},
   "source": [
    "<h1>MultinomialNB<h1>"
   ]
  },
  {
   "cell_type": "code",
   "execution_count": 20,
   "id": "d7f0995a84bafa42",
   "metadata": {
    "ExecuteTime": {
     "end_time": "2023-11-23T15:50:11.024281700Z",
     "start_time": "2023-11-23T15:50:10.446348100Z"
    }
   },
   "outputs": [
    {
     "name": "stdout",
     "output_type": "stream",
     "text": [
      "Train Accuracy:  0.46434348307273193\n",
      "Test Accuracy:  0.44537549407114624\n"
     ]
    }
   ],
   "source": [
    "from sklearn.naive_bayes import MultinomialNB\n",
    "\n",
    "Multinomial_NB = MultinomialNB()\n",
    "Multinomial_NB.fit(X_train ,Y_train)\n",
    "print(\"Train Accuracy: \",Multinomial_NB.score(X_train ,Y_train))\n",
    "print(\"Test Accuracy: \",Multinomial_NB.score(X_test ,Y_test))"
   ]
  },
  {
   "cell_type": "code",
   "execution_count": 21,
   "id": "45c14695a26e557d",
   "metadata": {
    "ExecuteTime": {
     "end_time": "2023-11-23T15:50:20.533295700Z",
     "start_time": "2023-11-23T15:50:20.446359900Z"
    }
   },
   "outputs": [
    {
     "name": "stdout",
     "output_type": "stream",
     "text": [
      "              precision    recall  f1-score   support\n",
      "\n",
      "           0       0.00      0.00      0.00         0\n",
      "           1       0.02      0.52      0.04       110\n",
      "           2       0.89      0.55      0.68      7544\n",
      "           3       0.89      0.37      0.53     11258\n",
      "           4       0.00      0.00      0.00         0\n",
      "           5       0.00      0.00      0.00         0\n",
      "           6       0.00      0.00      0.00         0\n",
      "           7       0.00      1.00      0.00         1\n",
      "           8       0.00      0.00      0.00         0\n",
      "           9       0.00      0.00      0.00         0\n",
      "          10       0.02      0.81      0.04        62\n",
      "\n",
      "    accuracy                           0.45     18975\n",
      "   macro avg       0.17      0.30      0.12     18975\n",
      "weighted avg       0.88      0.45      0.58     18975\n",
      "\n"
     ]
    },
    {
     "name": "stderr",
     "output_type": "stream",
     "text": [
      "C:\\Users\\fractal\\anaconda3\\Lib\\site-packages\\sklearn\\metrics\\_classification.py:1344: UndefinedMetricWarning: Recall and F-score are ill-defined and being set to 0.0 in labels with no true samples. Use `zero_division` parameter to control this behavior.\n",
      "  _warn_prf(average, modifier, msg_start, len(result))\n",
      "C:\\Users\\fractal\\anaconda3\\Lib\\site-packages\\sklearn\\metrics\\_classification.py:1344: UndefinedMetricWarning: Recall and F-score are ill-defined and being set to 0.0 in labels with no true samples. Use `zero_division` parameter to control this behavior.\n",
      "  _warn_prf(average, modifier, msg_start, len(result))\n",
      "C:\\Users\\fractal\\anaconda3\\Lib\\site-packages\\sklearn\\metrics\\_classification.py:1344: UndefinedMetricWarning: Recall and F-score are ill-defined and being set to 0.0 in labels with no true samples. Use `zero_division` parameter to control this behavior.\n",
      "  _warn_prf(average, modifier, msg_start, len(result))\n"
     ]
    }
   ],
   "source": [
    "from sklearn.metrics import classification_report\n",
    "y_pred = Multinomial_NB.predict(X_test)\n",
    "print(classification_report(y_pred ,Y_test))"
   ]
  },
  {
   "cell_type": "markdown",
   "id": "928060df857af16d",
   "metadata": {},
   "source": [
    "<h1>Random Forest<h1>\n"
   ]
  },
  {
   "cell_type": "code",
   "execution_count": null,
   "id": "103cecfabcaa1b13",
   "metadata": {
    "ExecuteTime": {
     "end_time": "2023-11-23T16:04:43.613641100Z",
     "start_time": "2023-11-23T15:51:09.634377600Z"
    }
   },
   "outputs": [],
   "source": [
    "from sklearn.ensemble import RandomForestClassifier\n",
    "rf = RandomForestClassifier(n_estimators=100,random_state = 42)\n",
    "rf.fit(X_train,Y_train)\n",
    "print(\"Train Accuracy: \",rf.score(X_train ,Y_train))\n",
    "print(\"Test Accuracy: \",rf.score(X_test ,Y_test))"
   ]
  },
  {
   "cell_type": "code",
   "execution_count": 24,
   "id": "f78afb30c9f39c2a",
   "metadata": {
    "ExecuteTime": {
     "end_time": "2023-11-23T16:07:40.310409100Z",
     "start_time": "2023-11-23T16:07:38.483261100Z"
    }
   },
   "outputs": [
    {
     "name": "stdout",
     "output_type": "stream",
     "text": [
      "              precision    recall  f1-score   support\n",
      "\n",
      "           0       0.01      1.00      0.01         3\n",
      "           1       0.17      0.61      0.27       736\n",
      "           2       0.90      0.53      0.67      7825\n",
      "           3       0.83      0.40      0.54      9769\n",
      "           4       0.02      0.86      0.04         7\n",
      "           5       0.02      0.83      0.04        18\n",
      "           6       0.00      0.00      0.00         0\n",
      "           7       0.02      0.77      0.04        48\n",
      "           8       0.00      1.00      0.00         1\n",
      "           9       0.23      0.99      0.37        78\n",
      "          10       0.12      0.59      0.19       490\n",
      "\n",
      "    accuracy                           0.47     18975\n",
      "   macro avg       0.21      0.69      0.20     18975\n",
      "weighted avg       0.81      0.47      0.57     18975\n"
     ]
    },
    {
     "name": "stderr",
     "output_type": "stream",
     "text": [
      "C:\\Users\\fractal\\anaconda3\\Lib\\site-packages\\sklearn\\metrics\\_classification.py:1344: UndefinedMetricWarning: Recall and F-score are ill-defined and being set to 0.0 in labels with no true samples. Use `zero_division` parameter to control this behavior.\n",
      "  _warn_prf(average, modifier, msg_start, len(result))\n",
      "C:\\Users\\fractal\\anaconda3\\Lib\\site-packages\\sklearn\\metrics\\_classification.py:1344: UndefinedMetricWarning: Recall and F-score are ill-defined and being set to 0.0 in labels with no true samples. Use `zero_division` parameter to control this behavior.\n",
      "  _warn_prf(average, modifier, msg_start, len(result))\n",
      "C:\\Users\\fractal\\anaconda3\\Lib\\site-packages\\sklearn\\metrics\\_classification.py:1344: UndefinedMetricWarning: Recall and F-score are ill-defined and being set to 0.0 in labels with no true samples. Use `zero_division` parameter to control this behavior.\n",
      "  _warn_prf(average, modifier, msg_start, len(result))\n"
     ]
    }
   ],
   "source": [
    "y_pred = rf.predict(X_test)\n",
    "print(classification_report(y_pred ,Y_test))"
   ]
  },
  {
   "cell_type": "markdown",
   "id": "43282618a0889972",
   "metadata": {},
   "source": [
    "<h1>Logistic Regression<h1>\n"
   ]
  },
  {
   "cell_type": "code",
   "execution_count": 25,
   "id": "cb34b975fcb0c98a",
   "metadata": {
    "ExecuteTime": {
     "end_time": "2023-11-23T16:10:05.638279400Z",
     "start_time": "2023-11-23T16:09:04.741450Z"
    }
   },
   "outputs": [
    {
     "name": "stdout",
     "output_type": "stream",
     "text": [
      "Train Accuracy:  0.7482051136524873\n",
      "Test Accuracy:  0.5937812911725955\n"
     ]
    },
    {
     "name": "stderr",
     "output_type": "stream",
     "text": [
      "C:\\Users\\fractal\\anaconda3\\Lib\\site-packages\\sklearn\\linear_model\\_logistic.py:458: ConvergenceWarning: lbfgs failed to converge (status=1):\n",
      "STOP: TOTAL NO. of ITERATIONS REACHED LIMIT.\n",
      "\n",
      "Increase the number of iterations (max_iter) or scale the data as shown in:\n",
      "    https://scikit-learn.org/stable/modules/preprocessing.html\n",
      "Please also refer to the documentation for alternative solver options:\n",
      "    https://scikit-learn.org/stable/modules/linear_model.html#logistic-regression\n",
      "  n_iter_i = _check_optimize_result(\n"
     ]
    }
   ],
   "source": [
    "from sklearn.linear_model import LogisticRegression\n",
    "lr = LogisticRegression()\n",
    "lr.fit(X_train,Y_train)\n",
    "print(\"Train Accuracy: \",lr.score(X_train ,Y_train))\n",
    "print(\"Test Accuracy: \",lr.score(X_test ,Y_test))"
   ]
  },
  {
   "cell_type": "code",
   "execution_count": 26,
   "id": "f799a37611f3187b",
   "metadata": {
    "ExecuteTime": {
     "end_time": "2023-11-23T16:12:17.786027Z",
     "start_time": "2023-11-23T16:12:17.664373200Z"
    }
   },
   "outputs": [
    {
     "name": "stdout",
     "output_type": "stream",
     "text": [
      "              precision    recall  f1-score   support\n",
      "\n",
      "           0       0.11      0.63      0.19        79\n",
      "           1       0.54      0.57      0.55      2500\n",
      "           2       0.86      0.68      0.76      5865\n",
      "           3       0.78      0.54      0.64      6815\n",
      "           4       0.01      0.50      0.02         6\n",
      "           5       0.49      0.75      0.59       490\n",
      "           6       0.10      0.73      0.18        44\n",
      "           7       0.26      0.56      0.35       802\n",
      "           8       0.06      0.47      0.11        76\n",
      "           9       0.60      0.96      0.74       211\n",
      "          10       0.40      0.48      0.43      2087\n",
      "\n",
      "    accuracy                           0.59     18975\n",
      "   macro avg       0.38      0.63      0.42     18975\n",
      "weighted avg       0.69      0.59      0.63     18975\n"
     ]
    }
   ],
   "source": [
    "y_pred = lr.predict(X_test)\n",
    "print(classification_report(y_pred ,Y_test))"
   ]
  }
 ],
 "metadata": {
  "kernelspec": {
   "display_name": "Python 3 (ipykernel)",
   "language": "python",
   "name": "python3"
  },
  "language_info": {
   "codemirror_mode": {
    "name": "ipython",
    "version": 3
   },
   "file_extension": ".py",
   "mimetype": "text/x-python",
   "name": "python",
   "nbconvert_exporter": "python",
   "pygments_lexer": "ipython3",
   "version": "3.11.3"
  }
 },
 "nbformat": 4,
 "nbformat_minor": 5
}
